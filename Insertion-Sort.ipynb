{
 "cells": [
  {
   "cell_type": "code",
   "execution_count": 37,
   "metadata": {},
   "outputs": [],
   "source": [
    "import pandas as pd"
   ]
  },
  {
   "cell_type": "code",
   "execution_count": 36,
   "metadata": {},
   "outputs": [
    {
     "name": "stdout",
     "output_type": "stream",
     "text": [
      "[2, 4, 10, 5, 1]\n",
      "[2, 4, 10, 5, 1]\n",
      "[2, 4, 5, 10, 1]\n",
      "[1, 2, 4, 5, 10]\n"
     ]
    },
    {
     "data": {
      "text/plain": [
       "[1, 2, 4, 5, 10]"
      ]
     },
     "execution_count": 36,
     "metadata": {},
     "output_type": "execute_result"
    }
   ],
   "source": [
    "items = [4,2,10,5,1]\n",
    "prior = 0\n",
    "for i in range(len(items)-1):\n",
    "    holdposition = i + 1\n",
    "    holdvalue = items[holdposition]\n",
    "    while holdposition > 0 and holdvalue < items[holdposition-1]:\n",
    "        items[holdposition] = items[holdposition-1]\n",
    "        holdposition = holdposition - 1\n",
    "    items[holdposition] = holdvalue\n",
    "    print(items)\n",
    "items"
   ]
  },
  {
   "cell_type": "code",
   "execution_count": 31,
   "metadata": {},
   "outputs": [
    {
     "data": {
      "text/plain": [
       "(1, 5)"
      ]
     },
     "execution_count": 31,
     "metadata": {},
     "output_type": "execute_result"
    }
   ],
   "source": [
    "items = [2, 4, 5, 1, 10]\n",
    "items[3],items[3-1]"
   ]
  },
  {
   "cell_type": "code",
   "execution_count": null,
   "metadata": {},
   "outputs": [],
   "source": [
    "items = [4,2,10,5,1]"
   ]
  },
  {
   "cell_type": "code",
   "execution_count": null,
   "metadata": {},
   "outputs": [],
   "source": [
    "for i in range(len())"
   ]
  },
  {
   "cell_type": "code",
   "execution_count": 139,
   "metadata": {},
   "outputs": [],
   "source": [
    "def insertion_sort(arr):\n",
    "    for idx in range(1,len(arr)):\n",
    "        holdposition = idx-1\n",
    "        holdvalue = arr[idx] # hold value\n",
    "        print(holdvalue,arr[holdposition],arr)\n",
    "        while arr[holdposition] > holdvalue and holdposition >= 0:\n",
    "            print(arr[holdposition+1],arr[holdposition])\n",
    "            arr[holdposition+1] = arr[holdposition]\n",
    "            holdposition-=1\n",
    "            print(holdposition)\n",
    "        arr[holdposition+1] = holdvalue  \n",
    "    return arr"
   ]
  },
  {
   "cell_type": "code",
   "execution_count": 141,
   "metadata": {},
   "outputs": [
    {
     "name": "stdout",
     "output_type": "stream",
     "text": [
      "2 4 [4, 2, 10, 5, 1]\n",
      "2 4\n",
      "-1\n",
      "10 4 [2, 4, 10, 5, 1]\n",
      "5 10 [2, 4, 10, 5, 1]\n",
      "5 10\n",
      "1\n",
      "1 10 [2, 4, 5, 10, 1]\n",
      "1 10\n",
      "2\n",
      "10 5\n",
      "1\n",
      "5 4\n",
      "0\n",
      "4 2\n",
      "-1\n"
     ]
    },
    {
     "data": {
      "text/plain": [
       "[1, 2, 4, 5, 10]"
      ]
     },
     "execution_count": 141,
     "metadata": {},
     "output_type": "execute_result"
    }
   ],
   "source": [
    "items = [4,2,10,5,1]\n",
    "insertion_sort(items)"
   ]
  },
  {
   "cell_type": "code",
   "execution_count": 148,
   "metadata": {},
   "outputs": [],
   "source": [
    "def insertion_sort(arr):\n",
    "    \"\"\"\n",
    "    \n",
    "    Sort list by Insertion Sort\n",
    "    Insert value into sorted list (lower-part of list) in appropiate position.\n",
    "    With run-time complexity of Ο(n^2)\n",
    "    \n",
    "    Arg:\n",
    "    arr: list. The python list that contains only integer that want to be sorted.\n",
    "    \n",
    "    Return:\n",
    "    arr: list. return sorted list by Insertion Sort\n",
    "    \n",
    "    \"\"\"\n",
    "    for idx in range(len(arr)-1):\n",
    "        idy = idx+1 # comparison index\n",
    "        holdvalue = arr[idy] # store hold value to swap after iteration\n",
    "        while arr[idy-1] > holdvalue and idy > 0: # check length and condition\n",
    "            arr[idy] = arr[idy-1] # replace value \n",
    "            idy = idy - 1\n",
    "        arr[idy] = holdvalue # replace value after iteration\n",
    "    return arr"
   ]
  },
  {
   "cell_type": "code",
   "execution_count": 149,
   "metadata": {},
   "outputs": [
    {
     "data": {
      "text/plain": [
       "[10, 14, 19, 27, 33, 35, 42, 44]"
      ]
     },
     "execution_count": 149,
     "metadata": {},
     "output_type": "execute_result"
    }
   ],
   "source": [
    "items = [14,33,27,10,35,19,42,44]\n",
    "insertion_sort(items)"
   ]
  },
  {
   "cell_type": "code",
   "execution_count": null,
   "metadata": {},
   "outputs": [],
   "source": []
  },
  {
   "cell_type": "code",
   "execution_count": null,
   "metadata": {},
   "outputs": [],
   "source": []
  },
  {
   "cell_type": "code",
   "execution_count": null,
   "metadata": {},
   "outputs": [],
   "source": []
  },
  {
   "cell_type": "code",
   "execution_count": null,
   "metadata": {},
   "outputs": [],
   "source": []
  },
  {
   "cell_type": "code",
   "execution_count": null,
   "metadata": {},
   "outputs": [],
   "source": []
  },
  {
   "cell_type": "code",
   "execution_count": null,
   "metadata": {},
   "outputs": [],
   "source": []
  },
  {
   "cell_type": "code",
   "execution_count": null,
   "metadata": {},
   "outputs": [],
   "source": []
  }
 ],
 "metadata": {
  "kernelspec": {
   "display_name": "Python 3",
   "language": "python",
   "name": "python3"
  },
  "language_info": {
   "codemirror_mode": {
    "name": "ipython",
    "version": 3
   },
   "file_extension": ".py",
   "mimetype": "text/x-python",
   "name": "python",
   "nbconvert_exporter": "python",
   "pygments_lexer": "ipython3",
   "version": "3.8.5"
  }
 },
 "nbformat": 4,
 "nbformat_minor": 4
}
